{
 "cells": [
  {
   "cell_type": "code",
   "execution_count": 1,
   "id": "2fa9801b",
   "metadata": {},
   "outputs": [],
   "source": [
    "# Import the random module.\n",
    "import random"
   ]
  },
  {
   "cell_type": "code",
   "execution_count": 2,
   "id": "df73765b",
   "metadata": {},
   "outputs": [
    {
     "data": {
      "text/plain": [
       "-24"
      ]
     },
     "execution_count": 2,
     "metadata": {},
     "output_type": "execute_result"
    }
   ],
   "source": [
    "random.randint(-90, 90)"
   ]
  },
  {
   "cell_type": "code",
   "execution_count": 3,
   "id": "5701da4d",
   "metadata": {},
   "outputs": [
    {
     "data": {
      "text/plain": [
       "0.045810795981449326"
      ]
     },
     "execution_count": 3,
     "metadata": {},
     "output_type": "execute_result"
    }
   ],
   "source": [
    "random.random()"
   ]
  },
  {
   "cell_type": "code",
   "execution_count": 4,
   "id": "115a27fd",
   "metadata": {},
   "outputs": [
    {
     "data": {
      "text/plain": [
       "-39"
      ]
     },
     "execution_count": 4,
     "metadata": {},
     "output_type": "execute_result"
    }
   ],
   "source": [
    "random.randrange(-90, 90, step=1)"
   ]
  },
  {
   "cell_type": "code",
   "execution_count": 5,
   "id": "355fb7a8",
   "metadata": {},
   "outputs": [
    {
     "data": {
      "text/plain": [
       "-27"
      ]
     },
     "execution_count": 5,
     "metadata": {},
     "output_type": "execute_result"
    }
   ],
   "source": [
    "random.randrange(-90, 90, step=3)"
   ]
  },
  {
   "cell_type": "code",
   "execution_count": 6,
   "id": "2801f8b1",
   "metadata": {},
   "outputs": [
    {
     "data": {
      "text/plain": [
       "44.371971148196934"
      ]
     },
     "execution_count": 6,
     "metadata": {},
     "output_type": "execute_result"
    }
   ],
   "source": [
    "random.uniform(-90, 90)"
   ]
  },
  {
   "cell_type": "code",
   "execution_count": 7,
   "id": "5b88a93a",
   "metadata": {},
   "outputs": [],
   "source": [
    "# Import the NumPy module.\n",
    "import numpy as np"
   ]
  },
  {
   "cell_type": "code",
   "execution_count": 8,
   "id": "fee0846d",
   "metadata": {},
   "outputs": [
    {
     "data": {
      "text/plain": [
       "70.33895623011566"
      ]
     },
     "execution_count": 8,
     "metadata": {},
     "output_type": "execute_result"
    }
   ],
   "source": [
    "np.random.uniform(-90.000, 90.000)"
   ]
  },
  {
   "cell_type": "code",
   "execution_count": 9,
   "id": "9a866ffa",
   "metadata": {},
   "outputs": [
    {
     "data": {
      "text/plain": [
       "array([-1.70150291e+01, -3.56220211e+01,  4.51890621e+01, -4.88439194e+01,\n",
       "       -4.90511420e+01, -7.29333060e+01, -4.80074229e+01,  5.42540937e+01,\n",
       "       -4.08245265e+01, -4.56369171e+01, -6.45267483e+01, -1.39468063e+01,\n",
       "        7.09389012e+01, -4.12685411e+01, -5.15401902e+01,  6.12486881e+01,\n",
       "        1.49295641e+01,  2.75807937e+01, -7.19350023e+01, -8.15372516e+01,\n",
       "        2.01918767e+01,  6.86434920e+01, -3.20263249e+01,  7.93851131e-02,\n",
       "        1.29536652e+01,  1.34802401e+01, -5.31542262e+01, -6.71106791e+01,\n",
       "        8.53239008e+01, -3.75465543e+01, -1.96606880e+01,  3.75238131e+01,\n",
       "       -2.75803924e+01, -7.09223284e+01, -7.35356092e+01, -8.77178598e+01,\n",
       "        7.29633981e+01,  7.54403341e+01, -3.12220638e+01,  4.35403807e+01,\n",
       "       -5.05718105e+01,  1.75147054e+01,  6.24265338e+01,  1.46921612e+01,\n",
       "       -8.05280454e+01,  2.21413129e+01, -5.48505608e+01, -1.27983094e+01,\n",
       "        1.61177870e+01, -4.04699257e+01])"
      ]
     },
     "execution_count": 9,
     "metadata": {},
     "output_type": "execute_result"
    }
   ],
   "source": [
    "np.random.uniform(-90.000, 90.000, size=50)"
   ]
  },
  {
   "cell_type": "code",
   "execution_count": 10,
   "id": "76545dec",
   "metadata": {},
   "outputs": [],
   "source": [
    "# Import timeit.\n",
    "import timeit"
   ]
  },
  {
   "cell_type": "code",
   "execution_count": 11,
   "id": "b9994f1b",
   "metadata": {},
   "outputs": [
    {
     "name": "stdout",
     "output_type": "stream",
     "text": [
      "12 µs ± 276 ns per loop (mean ± std. dev. of 7 runs, 100000 loops each)\n"
     ]
    }
   ],
   "source": [
    "%timeit np.random.uniform(-90.000, 90.000, size=1500)"
   ]
  },
  {
   "cell_type": "code",
   "execution_count": 12,
   "id": "824331ac",
   "metadata": {},
   "outputs": [
    {
     "name": "stdout",
     "output_type": "stream",
     "text": [
      "1.42 ms ± 138 µs per loop (mean ± std. dev. of 7 runs, 1000 loops each)\n"
     ]
    }
   ],
   "source": [
    "def latitudes(size):\n",
    "    latitudes = []\n",
    "    x = 0\n",
    "    while x < (size):\n",
    "        random_lat = random.randint(--0, 90) + random.random()\n",
    "        latitudes.append(random_lat)\n",
    "        x += 1\n",
    "    return latitudes\n",
    "# Call the function with 1500.\n",
    "%timeit latitudes(1500)"
   ]
  }
 ],
 "metadata": {
  "kernelspec": {
   "display_name": "PythonData",
   "language": "python",
   "name": "pythondata"
  },
  "language_info": {
   "codemirror_mode": {
    "name": "ipython",
    "version": 3
   },
   "file_extension": ".py",
   "mimetype": "text/x-python",
   "name": "python",
   "nbconvert_exporter": "python",
   "pygments_lexer": "ipython3",
   "version": "3.7.11"
  }
 },
 "nbformat": 4,
 "nbformat_minor": 5
}
